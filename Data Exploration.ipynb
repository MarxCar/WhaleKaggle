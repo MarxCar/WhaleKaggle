{
 "cells": [
  {
   "cell_type": "code",
   "execution_count": 146,
   "metadata": {},
   "outputs": [],
   "source": [
    "from os import listdir\n",
    "from os.path import isfile, join\n",
    "import csv\n",
    "import numpy as np\n",
    "from sklearn.preprocessing import OneHotEncoder, LabelEncoder\n",
    "from sklearn.model_selection import train_test_split\n",
    "%matplotlib inline"
   ]
  },
  {
   "cell_type": "markdown",
   "metadata": {},
   "source": [
    "## Data Exploration"
   ]
  },
  {
   "cell_type": "code",
   "execution_count": 2,
   "metadata": {},
   "outputs": [
    {
     "name": "stdout",
     "output_type": "stream",
     "text": [
      "5005 25361\n"
     ]
    }
   ],
   "source": [
    "mypath = \"../train/\"\n",
    "onlyfiles = [f for f in listdir(mypath) if isfile(join(mypath, f))]\n",
    "whale_info = {}\n",
    "\n",
    "with open(\"../train.csv\") as file:\n",
    "    t = csv.DictReader(file, delimiter=\",\")\n",
    "   \n",
    "    \n",
    "    for line in t:\n",
    "    \n",
    "        if line[\"Id\"] in whale_info:\n",
    "            whale_info[line[\"Id\"]] += 1\n",
    "        else:\n",
    "            whale_info[line[\"Id\"]] = 1\n",
    "\n",
    "print(len(whale_info), len(onlyfiles))"
   ]
  },
  {
   "cell_type": "markdown",
   "metadata": {},
   "source": [
    "##### So we got 5005 unique whales that we gotta identify them using 25,361 training images"
   ]
  },
  {
   "cell_type": "code",
   "execution_count": 3,
   "metadata": {},
   "outputs": [],
   "source": [
    "histogram_dict = {}\n",
    "\n",
    "count = 1\n",
    "for whale_num in whale_info.values():\n",
    "    #exclude \n",
    "    if whale_num != 9664:\n",
    "        histogram_dict[count] = whale_num\n",
    "        count += 1 \n"
   ]
  },
  {
   "cell_type": "code",
   "execution_count": 54,
   "metadata": {
    "scrolled": true
   },
   "outputs": [
    {
     "data": {
      "image/png": "[encoded data removed]",
      "text/plain": [
       "<Figure size 432x288 with 1 Axes>"
      ]
     },
     "metadata": {},
     "output_type": "display_data"
    }
   ],
   "source": [
    "import matplotlib.pyplot as plt\n",
    "\n",
    "fig, ax = plt.subplots()\n",
    "ax.bar(histogram_dict.keys(), histogram_dict.values(), ec=\"k\", align=\"edge\")\n",
    "plt.xlabel('Whale ID')\n",
    "plt.ylabel('Frequency')\n",
    "plt.title('Frequency of Whale Pictures Versus ID')\n",
    "\n",
    "plt.show()"
   ]
  },
  {
   "cell_type": "code",
   "execution_count": 18,
   "metadata": {},
   "outputs": [],
   "source": [
    "mypath = \"../train/\"\n",
    "onlyfiles = [f for f in listdir(mypath) if isfile(join(mypath, f))]\n",
    "\n",
    "ids_to_images = {}\n",
    "\n",
    "with open(\"../train.csv\") as file:\n",
    "    t = csv.DictReader(file, delimiter=\",\")\n",
    "   \n",
    "    \n",
    "    for line in t:\n",
    "        if line[\"Id\"] not in ids_to_images:\n",
    "            ids_to_images[line[\"Id\"]] = [line[\"Image\"]]\n",
    "        else:\n",
    "            ids_to_images[line[\"Id\"]].append(line[\"Image\"])\n",
    "        \n"
   ]
  },
  {
   "cell_type": "markdown",
   "metadata": {},
   "source": [
    "## Train-Test Split"
   ]
  },
  {
   "cell_type": "code",
   "execution_count": 50,
   "metadata": {},
   "outputs": [],
   "source": [
    "\n",
    "\n",
    "train_images = []\n",
    "training_ids = []\n",
    "\n",
    "test_images = []\n",
    "test_ids = []\n",
    "for whale_id, pictures in ids_to_images.items():\n",
    "   \n",
    "    train_images.extend(pictures[:len(pictures) - len(pictures)//4])\n",
    "    training_ids.extend([whale_id] * (len(pictures) - len(pictures)//4))\n",
    "    test_images.extend(pictures[len(pictures) - len(pictures)//4:])\n",
    "    test_ids.extend([whale_id] * (len(pictures) - len(pictures)//4))\n",
    "        \n",
    "    "
   ]
  },
  {
   "cell_type": "code",
   "execution_count": 62,
   "metadata": {},
   "outputs": [
    {
     "data": {
      "text/plain": [
       "0.8244943022751469"
      ]
     },
     "execution_count": 62,
     "metadata": {},
     "output_type": "execute_result"
    }
   ],
   "source": [
    "len(train_images)/len(onlyfiles)"
   ]
  },
  {
   "cell_type": "code",
   "execution_count": 167,
   "metadata": {},
   "outputs": [],
   "source": [
    "import shutil\n",
    "def moveImages(images, path):\n",
    "    for image in images:\n",
    "        shutil.move(join(mypath, image), \"../images/{}\".format(path))"
   ]
  },
  {
   "cell_type": "code",
   "execution_count": 124,
   "metadata": {},
   "outputs": [
    {
     "data": {
      "text/plain": [
       "4451"
      ]
     },
     "execution_count": 124,
     "metadata": {},
     "output_type": "execute_result"
    }
   ],
   "source": [
    "len(test_images)"
   ]
  },
  {
   "cell_type": "code",
   "execution_count": 123,
   "metadata": {},
   "outputs": [],
   "source": [
    "moveImages(test_images, \"Test\")"
   ]
  },
  {
   "cell_type": "code",
   "execution_count": 162,
   "metadata": {},
   "outputs": [],
   "source": [
    "X_train, X_val, y_train, y_val = train_test_split(train_images, training_ids, test_size=0.2, random_state=42)"
   ]
  },
  {
   "cell_type": "code",
   "execution_count": 168,
   "metadata": {},
   "outputs": [],
   "source": [
    "moveImages(X_train, \"Train\")\n",
    "moveImages(X_val, \"Validation\")"
   ]
  },
  {
   "cell_type": "markdown",
   "metadata": {},
   "source": [
    "## One Hot Vectorization"
   ]
  },
  {
   "cell_type": "code",
   "execution_count": 89,
   "metadata": {},
   "outputs": [
    {
     "data": {
      "text/plain": [
       "5005"
      ]
     },
     "execution_count": 89,
     "metadata": {},
     "output_type": "execute_result"
    }
   ],
   "source": [
    "encoder_dict[\"w_9f30885\"]"
   ]
  },
  {
   "cell_type": "code",
   "execution_count": 87,
   "metadata": {},
   "outputs": [],
   "source": [
    "encoder_dict = {}\n",
    "for images, ints in zip(whale_info.keys(),range(1, len(whale_info.keys())+1)):\n",
    "    encoder_dict[images] = ints"
   ]
  },
  {
   "cell_type": "code",
   "execution_count": 100,
   "metadata": {},
   "outputs": [],
   "source": [
    "b = training_ids[:]\n",
    "b.extend(test_ids)\n",
    "a = [[encoder_dict[x]] for x in b]"
   ]
  },
  {
   "cell_type": "code",
   "execution_count": 96,
   "metadata": {},
   "outputs": [
    {
     "data": {
      "text/plain": [
       "OneHotEncoder(categorical_features='all', dtype=<class 'numpy.float64'>,\n",
       "       handle_unknown='error', n_values='auto', sparse=True)"
      ]
     },
     "execution_count": 96,
     "metadata": {},
     "output_type": "execute_result"
    }
   ],
   "source": [
    "encoder = OneHotEncoder()\n",
    "encoder.fit(a)\n"
   ]
  },
  {
   "cell_type": "code",
   "execution_count": 119,
   "metadata": {},
   "outputs": [
    {
     "data": {
      "text/plain": [
       "OneHotEncoder(categorical_features='all', dtype=<class 'numpy.float64'>,\n",
       "       handle_unknown='error', n_values='auto', sparse=True)"
      ]
     },
     "execution_count": 119,
     "metadata": {},
     "output_type": "execute_result"
    }
   ],
   "source": [
    "encoder"
   ]
  }
 ],
 "metadata": {
  "kernelspec": {
   "display_name": "Python 3",
   "language": "python",
   "name": "python3"
  },
  "language_info": {
   "codemirror_mode": {
    "name": "ipython",
    "version": 3
   },
   "file_extension": ".py",
   "mimetype": "text/x-python",
   "name": "python",
   "nbconvert_exporter": "python",
   "pygments_lexer": "ipython3",
   "version": "3.6.5"
  }
 },
 "nbformat": 4,
 "nbformat_minor": 2
}
